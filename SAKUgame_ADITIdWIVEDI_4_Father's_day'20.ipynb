{
  "nbformat": 4,
  "nbformat_minor": 0,
  "metadata": {
    "colab": {
      "name": "SAKUgame_ADITIdWIVEDI_4_Father's day'20.ipynb",
      "provenance": [],
      "collapsed_sections": [],
      "include_colab_link": true
    },
    "kernelspec": {
      "name": "python3",
      "display_name": "Python 3"
    }
  },
  "cells": [
    {
      "cell_type": "markdown",
      "metadata": {
        "id": "view-in-github",
        "colab_type": "text"
      },
      "source": [
        "<a href=\"https://colab.research.google.com/github/me2527/TowerOfHanoi/blob/main/SAKUgame_ADITIdWIVEDI_4_Father's_day'20.ipynb\" target=\"_parent\"><img src=\"https://colab.research.google.com/assets/colab-badge.svg\" alt=\"Open In Colab\"/></a>"
      ]
    },
    {
      "cell_type": "markdown",
      "metadata": {
        "id": "rO0ecnzyien_"
      },
      "source": [
        "## Father's day Activity"
      ]
    },
    {
      "cell_type": "markdown",
      "metadata": {
        "id": "VkLRToNHiiyn"
      },
      "source": [
        "### Tower of Hanoi\n",
        "\n",
        "There are three towers. The objective of the game is to move all the disks over to tower `3`, but you can't place a larger disk onto a smaller disk. To play the game or learn more about the Tower of Hanoi, check the **Resources** tab.\n",
        "\n",
        "![animation](https://i.imgur.com/Vz98flW.gif)\n",
        "\n",
        "Create a function (let's say `towerHanoi()`) that takes an integer `discs` as a parameter and returns the minimum amount of steps needed to complete the game.\n",
        "\n",
        "**Constraints**\n",
        "\n",
        "The amount of discs is always a positive integer.\n",
        "\n",
        "**Sample Input 1**:\n",
        "```\n",
        "towerHanoi(3)\n",
        "```\n",
        "**Sample Output 1**:\n",
        "```\n",
        "7\n",
        "```\n",
        "\n",
        "**Sample Input 2**:\n",
        "```\n",
        "towerHanoi(5)\n",
        "```\n",
        "\n",
        "**Sample Output 2**:\n",
        "```\n",
        "31\n",
        "```\n",
        "\n",
        "**Sample Input 3**:\n",
        "```\n",
        "towerHanoi(0)\n",
        "```\n",
        "\n",
        "**Sample Output 3**:\n",
        "```\n",
        "0\n",
        "```\n",
        "\n",
        "\n"
      ]
    },
    {
      "cell_type": "code",
      "metadata": {
        "id": "T_XTOyGsZO8h"
      },
      "source": [
        ""
      ],
      "execution_count": null,
      "outputs": []
    },
    {
      "cell_type": "markdown",
      "metadata": {
        "id": "mBtSsMMy0GTY"
      },
      "source": [
        "---"
      ]
    },
    {
      "cell_type": "markdown",
      "metadata": {
        "id": "j-boKt9-t_hk"
      },
      "source": [
        "### Hangman"
      ]
    },
    {
      "cell_type": "markdown",
      "metadata": {
        "id": "nGKNJumLuZtt"
      },
      "source": [
        "Hangman is a quick and easy game for at least two people  (like Father and Son/Daughter). \n",
        "\n",
        "One player, the \"host,\" makes up a secret word. This secret word can be anything, it can be name of a movie, a bollywood star, a sports star, name of a car or it can be anything.\n",
        "\n",
        "The other player tries to guess the word by asking what letters it contains. However, every wrong guess brings them one step closer to losing.\n",
        "\n",
        "The word to guess is represented by a row of dashes. If the player guess a letter which exists in the word, that letter is written in its correct position.  \n",
        "\n",
        "The player has 10 turns to guess the word. "
      ]
    },
    {
      "cell_type": "markdown",
      "metadata": {
        "id": "yojqVG_W1fyq"
      },
      "source": [
        "**Sample Output**:\n",
        "Enter your name : Sam\n",
        "\n",
        "Hello Sam. \n",
        "\n",
        "Input name of a movie which your father will guess: **avatar**\n",
        "\n",
        "Start guessing...\n",
        "\n",
        "\n",
        "guess a character:**a**\n",
        "\n",
        "a _ a _ a _\n",
        "\n",
        "guess a character:**e**\n",
        "\n",
        "Wrong\n",
        "You have 9 more guesses\n",
        "\n",
        "a _ a _ a _\n",
        "\n",
        "guess a character:**t**\n",
        "\n",
        "a _ a t a _\n",
        "\n",
        "guess a character:**i**\n",
        "\n",
        "Wrong\n",
        "You have 8 more guesses\n",
        "\n",
        "a _ a t a _\n",
        "\n",
        "guess a character:**d**\n",
        "\n",
        "Wrong\n",
        "You have 7 more guesses\n",
        "\n",
        "a _ a t a _\n",
        "\n",
        "guess a character:**v**\n",
        "\n",
        "a v a t a _\n",
        "\n",
        "guess a character:**r**\n",
        "\n",
        "a v a t a r\n",
        "\n",
        "Your father won\n",
        "\n",
        "\n",
        "\n"
      ]
    },
    {
      "cell_type": "code",
      "metadata": {
        "id": "4b7d_yGj7mqM",
        "colab": {
          "base_uri": "https://localhost:8080/"
        },
        "outputId": "0a089b82-3f05-4f48-e84c-bd94b4b620b7"
      },
      "source": [
        "                                                         # SAKU GAME\n",
        "                                                        #ASKING INTEREST\n",
        "print(\"HELLO COMPETITORS! ARE YOU FEELING GREAT TO PLAY THE GAME WITH YOUR FATHER?\")\n",
        "print(\"TELL US PLEAS! BY ANSWERING YES OR NO?\")\n",
        "answer=input()\n",
        "valid_entries=[\"YES\",\"NO\"]\n",
        "if answer in valid_entries:\n",
        "  print(\"THANK YOU! FOR YOUR RESPONSE. PLEASE GO AHEAD TO PLAY YOUR GAME.\")\n",
        "elif answer not in valid_entries:\n",
        "  print(\"THANK YOU! FOR YOUR RESPONSE. \\n<IF YOU STILL WANT TO PLAY GAME, PLEASE TYPE 'start' AND GO AHEAD>\")\n",
        "  type=input()\n",
        "else:\n",
        "  print(\"YOU ENTER INVALID INPUT, PLAYER. PLEASE ENTER AGAIN:\")\n",
        "  answer=input()\n",
        "                                              #ASKING NAME OF THE PLAYERS\n",
        "player1name=input(\"PLAYER 1 PLEASE ENTER YOUR NAME:\")\n",
        "player2name=input(\"PLAYER 2 PLEASE ENTER YOUR NAME:\")\n",
        "#initialising score variables with 0\n",
        "player1_score=0\n",
        "player2_score=0\n",
        "\n",
        "# baking the logic\n",
        "ques=[]\n",
        "for i in range(0,3):\n",
        "  in1=input(\"Enter your question:\")\n",
        "  ques.append(in1)\n",
        "ans=[]\n",
        "for j in range(0,3):\n",
        "  in2=input(\"Enter your answer:\")\n",
        "  ans.append(in2)\n",
        "  #updating scores after checking the right move\n",
        "while True:\n",
        "  for k in range(0,3):\n",
        "    print (ques[k])\n",
        "  for l in range(0,3):\n",
        "    enter=input(\"Enter your guess:\")\n",
        "    if enter==ans[l]:\n",
        "      print(\"Great!!You are right!\")\n",
        "      player2_score+=1\n",
        "      print(\"Player_2 scored\",player2_score)\n",
        "      print(\"Player_1 scored\",player1_score)\n",
        "    elif enter!=ans[l]:\n",
        "      print(\"You left with 2 chance more.\")\n",
        "      enter=input(\"Enter your guess:\")\n",
        "      if enter==ans[l]:\n",
        "        print(\"Good!\")\n",
        "        player2_score+=1\n",
        "        print(\"Player_2 scored\",player2_score)\n",
        "        print(\"Player_1 scored\",player1_score)\n",
        "      elif enter!=ans[l]:\n",
        "        print(\"You left with 1 chance more.\")\n",
        "        enter=input(\"Enter your guess:\")\n",
        "        if enter==ans[l]:\n",
        "          print(\"Awesome!\")\n",
        "          player2_score+=1\n",
        "          print(\"Player_2 scored\",player2_score)\n",
        "          print(\"Player_1 scored\",player1_score)\n",
        "        elif enter!=ans[l]:\n",
        "          print(\"You lost the first ques. Move to next.\")\n",
        "          player1_score+=1\n",
        "          print(\"Player_2 scored\",player2_score)\n",
        "          print(\"Player_1 scored\",player1_score)\n",
        "  # Announcing the decision\n",
        "  if player1_score>player2_score:\n",
        "    print(\"Player1 won the game with\",player1_score,\"score\")\n",
        "    break \n",
        "  elif player2_score>player1_score:\n",
        "    print(\"Player2 won the game with\",player2_score,\"score\")\n",
        "    break  \n",
        "                                    #END GAME"
      ],
      "execution_count": null,
      "outputs": [
        {
          "output_type": "stream",
          "text": [
            "HELLO COMPETITORS! ARE YOU FEELING GREAT TO PLAY THE GAME WITH YOUR FATHER?\n",
            "TELL US PLEAS! BY ANSWERING YES OR NO?\n",
            "yes\n",
            "THANK YOU! FOR YOUR RESPONSE. \n",
            "<IF YOU STILL WANT TO PLAY GAME, PLEASE TYPE 'start' AND GO AHEAD>\n",
            "start\n",
            "PLAYER 1 PLEASE ENTER YOUR NAME:Aditi Dwivedi\n",
            "PLAYER 2 PLEASE ENTER YOUR NAME:Ramakant\n",
            "Enter your question:what you would like to eat\n"
          ],
          "name": "stdout"
        }
      ]
    }
  ]
}